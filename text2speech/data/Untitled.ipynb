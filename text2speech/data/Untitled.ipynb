{
 "cells": [
  {
   "cell_type": "code",
   "execution_count": 2,
   "id": "dd2c601a",
   "metadata": {},
   "outputs": [
    {
     "name": "stdout",
     "output_type": "stream",
     "text": [
      "Processed and saved ../../text2image/data/heavy_corrupted_hard_1k.csv\n",
      "Processed and saved ../../text2image/data/heavy_corrupted_hard_1k.csv\n",
      "Processed and saved ../../text2image/data/heavy_corrupted_random_1k.csv\n",
      "Processed and saved ../../text2image/data/heavy_corrupted_random_1k.csv\n",
      "Processed and saved ../../text2image/data/light_corrupted_hard_1k.csv\n",
      "Processed and saved ../../text2image/data/light_corrupted_hard_1k.csv\n",
      "Processed and saved ../../text2image/data/light_corrupted_random_1k.csv\n",
      "Processed and saved ../../text2image/data/light_corrupted_random_1k.csv\n"
     ]
    }
   ],
   "source": [
    "import pandas as pd\n",
    "import os\n",
    "\n",
    "def process_file(file_name):\n",
    "    # Check if the file exists\n",
    "    if not os.path.exists(file_name):\n",
    "        print(f\"File {file_name} not found.\")\n",
    "        return\n",
    "\n",
    "    try:\n",
    "        # Read the CSV file\n",
    "        df = pd.read_csv(file_name)\n",
    "\n",
    "        # Rename the 'transcript' column to 'transcription', if it exists\n",
    "        if 'substitute_sentences_homoglyphs' in df.columns:\n",
    "            df.rename(columns={'substitute_sentences_homoglyphs': 'substitute_with_homoglyphs'}, inplace=True)\n",
    "\n",
    "            # Save the DataFrame back to CSV\n",
    "            df.to_csv(file_name, index=False)\n",
    "            print(f\"Processed and saved {file_name}\")\n",
    "        else:\n",
    "            print(f\"The column 'transcript' does not exist in {file_name}\")\n",
    "            \n",
    "        if 'add_irrelevant_to_sentences' in df.columns:\n",
    "            df.rename(columns={'add_irrelevant_to_sentences': 'checklist'}, inplace=True)\n",
    "\n",
    "            # Save the DataFrame back to CSV\n",
    "            df.to_csv(file_name, index=False)\n",
    "            print(f\"Processed and saved {file_name}\")\n",
    "        else:\n",
    "            print(f\"The column 'transcript' does not exist in {file_name}\")\n",
    "            \n",
    "    except Exception as e:\n",
    "        print(f\"An error occurred while processing {file_name}: {e}\")\n",
    "\n",
    "# List of files to process\n",
    "files_to_process = [\n",
    "    \"../../text2image/data/heavy_corrupted_hard_1k.csv\",\n",
    "    \"../../text2image/data/heavy_corrupted_random_1k.csv\",\n",
    "    \"../../text2image/data/light_corrupted_hard_1k.csv\",\n",
    "    \"../../text2image/data/light_corrupted_random_1k.csv\"\n",
    "]\n",
    "\n",
    "# Process each file\n",
    "for file in files_to_process:\n",
    "    process_file(file)\n"
   ]
  },
  {
   "cell_type": "code",
   "execution_count": null,
   "id": "5d701f27",
   "metadata": {},
   "outputs": [],
   "source": []
  }
 ],
 "metadata": {
  "kernelspec": {
   "display_name": "jiawei",
   "language": "python",
   "name": "jiawei"
  },
  "language_info": {
   "codemirror_mode": {
    "name": "ipython",
    "version": 3
   },
   "file_extension": ".py",
   "mimetype": "text/x-python",
   "name": "python",
   "nbconvert_exporter": "python",
   "pygments_lexer": "ipython3",
   "version": "3.9.16"
  }
 },
 "nbformat": 4,
 "nbformat_minor": 5
}
